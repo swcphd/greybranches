{
 "cells": [
  {
   "cell_type": "markdown",
   "metadata": {},
   "source": [
    "# Git Tutorial"
   ]
  },
  {
   "cell_type": "markdown",
   "metadata": {},
   "source": [
    "## 1- Cloning a git repository from GitHub"
   ]
  },
  {
   "cell_type": "markdown",
   "metadata": {},
   "source": [
    "1) Open a terminal window:  \"Menu > Accessories > Terminal\"\n",
    "\n",
    "2) Go to your prefered directory : ```> cd ~/home/documents```\n",
    "\n",
    "3) Clone the repo: ```git clone git@github.com:swcphd/greybranches.git```\n",
    "\n",
    "<div>\n",
    "<img src=\"figures/Screen Shot 2019-09-09 at 10.20.34.png\" width=\"700\"/>\n",
    "</div>"
   ]
  },
  {
   "cell_type": "markdown",
   "metadata": {},
   "source": [
    "# 2- Adding a new file to git"
   ]
  },
  {
   "cell_type": "markdown",
   "metadata": {},
   "source": [
    "1) create a new file ```touch my_new_file.txt```\n",
    "\n",
    "2) add your new file to git's \"staging area\": ```git add my_new_file.txt```\n",
    "\n",
    "<!-- <div>\n",
    "<img src=\"figures/Capture%20d%E2%80%99e%CC%81cran%202019-09-07%20a%CC%80%2012.59.26.png\" width=\"200\"/>\n",
    "</div> -->"
   ]
  },
  {
   "cell_type": "markdown",
   "metadata": {},
   "source": [
    "\n",
    "# 3- Checking the status of the local repository"
   ]
  },
  {
   "cell_type": "markdown",
   "metadata": {},
   "source": [
    "1) run ```git status```:\n",
    "\n",
    "<div>\n",
    "<img src=\"figures/Capture%20d%E2%80%99e%CC%81cran%202019-09-07%20a%CC%80%2013.08.12.png\" width=\"500\"/>\n",
    "</div>\n",
    "\n",
    "    \n",
    "2) Now all changes in this file are \"tracked\":\n",
    "    a) make some edits on this file\n",
    "    b) type ```git status``` again:\n",
    "<div>\n",
    "<img src=\"figures/Capture%20d%E2%80%99e%CC%81cran%202019-09-07%20a%CC%80%2013.42.03.png\" width=\"500\"/>\n",
    "</div>\n",
    "\n",
    "    "
   ]
  },
  {
   "cell_type": "markdown",
   "metadata": {},
   "source": [
    "# 4- Editing an existing file"
   ]
  },
  {
   "cell_type": "markdown",
   "metadata": {},
   "source": [
    "\n",
    "1) open the file ```my_cool_paper.md``` with ```open my_cool_paper.md``` \n",
    "\n",
    "2) Make some edits: \n",
    "\n",
    "    a) group 1:  Abstract\n",
    "    \n",
    "    b) group 2:  Intro\n",
    "    \n",
    "    c) group 3:  Section 1\n",
    "    \n",
    "    ...\n",
    "3) Check the status on git:\n",
    "\n",
    "<div>\n",
    "<img src=\"figures/Capture%20d%E2%80%99e%CC%81cran%202019-09-07%20a%CC%80%2013.44.28.png\" width=\"500\"/>\n",
    "</div>\n"
   ]
  },
  {
   "cell_type": "markdown",
   "metadata": {},
   "source": [
    "# 5- Stage changes to be commited"
   ]
  },
  {
   "cell_type": "markdown",
   "metadata": {},
   "source": [
    "1) Run the command ```git stage my_new_file.txt```\n",
    "\n",
    "<!--<div>\n",
    "<img src=\"figures/Capture%20d%E2%80%99e%CC%81cran%202019-09-07%20a%CC%80%2013.47.05.png\" width=\"200\"/>\n",
    "</div>-->\n",
    "    \n",
    "2) Check the status again:\n",
    " \n",
    "<div>\n",
    "<img src=\"figures/Capture%20d%E2%80%99e%CC%81cran%202019-09-07%20a%CC%80%2013.46.37.png\" width=\"500\"/>\n",
    "</div>\n"
   ]
  },
  {
   "cell_type": "markdown",
   "metadata": {},
   "source": [
    "# 6- Committing changes to a local repository using command line"
   ]
  },
  {
   "cell_type": "markdown",
   "metadata": {},
   "source": [
    "1) run the command ```git commit -m \"dummy file\"``` to tell git to \"commit\" the changes and add a \"commit message\" that says \"dummy file\" attached to this commit:\n",
    "\n",
    "<!--<div>\n",
    "<img src=\"figures/Capture%20d%E2%80%99e%CC%81cran%202019-09-07%20a%CC%80%2013.12.14.png\" width=\"200\"/>\n",
    "</div>-->\n",
    "\n",
    "    \n",
    "2) You should see something like: \n",
    " <div>\n",
    "<img src=\"figures/Capture%20d%E2%80%99e%CC%81cran%202019-09-07%20a%CC%80%2013.12.30.png\" width=\"300\"/>\n",
    "</div>\n",
    "\n",
    "    "
   ]
  },
  {
   "cell_type": "markdown",
   "metadata": {},
   "source": [
    "\n",
    "3) Repeat the process for ```my_cool_paper.md```:\n",
    "\n",
    "* Stage the changes: ```git stage my_cool_paper.md```\n",
    "* Commit the changes with a meaninful comment: ```git commit -m \"new intro\"```\n",
    "    "
   ]
  },
  {
   "cell_type": "markdown",
   "metadata": {},
   "source": [
    "# 7- Removing file from your local repo"
   ]
  },
  {
   "cell_type": "markdown",
   "metadata": {},
   "source": [
    "1) Run the command: ```git rm my_new_file.txt```\n",
    "\n",
    "<!--<div>\n",
    "<img src=\"figures/Capture%20d%E2%80%99e%CC%81cran%202019-09-07%20a%CC%80%2013.19.16.png\" width=\"200\"/>\n",
    "</div>-->\n",
    "\n",
    "2) Check the status:\n",
    "\n",
    " <div>\n",
    "<img src=\"figures/Capture%20d%E2%80%99e%CC%81cran%202019-09-07%20a%CC%80%2013.21.09.png\" width=\"500\"/>\n",
    "</div>\n",
    "\n",
    "3) Commit the change with `git commit -m \"removed my_new_file.txt from git\"`\n",
    "\n",
    "<!--<div>\n",
    "<img src=\"figures/Capture%20d%E2%80%99e%CC%81cran%202019-09-07%20a%CC%80%2013.22.47.png\" width=\"500\"/>\n",
    "</div>-->\n",
    "\n"
   ]
  },
  {
   "cell_type": "markdown",
   "metadata": {},
   "source": [
    "# 8- Pulling changes from Remote repository"
   ]
  },
  {
   "cell_type": "markdown",
   "metadata": {},
   "source": [
    "1) Run the command: ```git pull origin master```\n",
    "\n",
    "2) If no changes occured in the Remote repo you should get the message:\n",
    "<div>\n",
    "<img src=\"figures/Capture%20d%E2%80%99e%CC%81cran%202019-09-07%20a%CC%80%2012.53.12.png\" width=\"200\"/>\n",
    "</div>\n",
    "\n",
    "\n",
    "3) When the remote changes are not conflicting with the local ones you get:\n",
    "<div>\n",
    "<img src=\"figures/Capture%20d%E2%80%99e%CC%81cran%202019-09-07%20a%CC%80%2012.52.59.png\" width=\"500\"/>\n",
    "</div>\n"
   ]
  },
  {
   "cell_type": "markdown",
   "metadata": {},
   "source": [
    "# 9- Pushing to remote repository"
   ]
  },
  {
   "cell_type": "markdown",
   "metadata": {},
   "source": [
    "1) Group 0: run ```git push```\n",
    "<div>\n",
    "<img src=\"figures/Capture%20d%E2%80%99e%CC%81cran%202019-09-07%20a%CC%80%2013.59.52.png\" width=\"500\"/>\n",
    "</div>\n",
    "\n",
    "2) All groups: run `git push` without pulling from the repo, you should get an error:\n",
    "\n",
    "<div>\n",
    "<img src=\"figures/Capture%20d%E2%80%99e%CC%81cran%202019-09-07%20a%CC%80%2013.56.40.png\" width=\"500\"/>\n",
    "</div>\n",
    "\n",
    "\n",
    "3) Git doesn't allow you to push modifications before merging the changes that were done remotely, you should first pull those changes, run `git pull`, git will try to merge the remote changes with your local ones automatically, then it will create a commit for this merge operation. It will then open a file containg the commit message and invite you to edit it:\n",
    "\n",
    "<div>\n",
    "<img src=\"figures/Capture%20d%E2%80%99e%CC%81cran%202019-09-07%20a%CC%80%2013.57.24.png\" width=\"500\"/>\n",
    "</div>\n",
    "\n",
    "\n",
    "4) You can write whatever message you want, or just keep the default one. Usually, the default editor used by git is Vim, you can save this message file by tying `:wq` or just close it by typing `:q` if you decided to keep the default message.\n",
    "\n",
    "<div>\n",
    "<img src=\"figures/Capture%20d%E2%80%99e%CC%81cran%202019-09-07%20a%CC%80%2013.57.43.png\" width=\"500\"/>\n",
    "</div>\n"
   ]
  },
  {
   "cell_type": "markdown",
   "metadata": {
    "collapsed": true
   },
   "source": [
    "# 10- Solving merge conflicts"
   ]
  },
  {
   "cell_type": "markdown",
   "metadata": {
    "collapsed": true
   },
   "source": [
    "1) Let's first create a conflict:\n",
    "\n",
    "    a) Group 0: Delete the Intro, commit and push.\n",
    "    \n",
    "    b) All groups: make other edits to the Intro and commit.\n",
    "    \n",
    "2) Now try pulling the changes from the repo, you should get an error message:\n",
    "<div>\n",
    "<img src=\"figures/Screen Shot 2019-09-11 at 08.31.07.png\" width=\"500\"/>\n",
    "</div>\n",
    "3) Let's see what happened to the conflicted file! Open 'my_cool_paper.md', you should see: \n",
    "\n",
    "<div>\n",
    "<img src=\"figures/Screen Shot 2019-09-11 at 08.32.56.png\" width=\"500\"/>\n",
    "</div>\n",
    "\n",
    "4) You can either edit the file directly: remove the headers added by git and choose one of the two versions or whathever final change you decide to make:\n",
    "\n",
    "<div>\n",
    "<img src=\"figures/Screen Shot 2019-09-11 at 08.40.59.png\" width=\"500\"/>\n",
    "</div>\n",
    "\n",
    "5) Another way to resolve conflicts is to use a 'mergetool' that highlights the conflicts in two different instances of the file. To use a mergetool, type: git mergetool:\n",
    "\n",
    "<div>\n",
    "<img src=\"figures/Screen Shot 2019-09-11 at 08.34.40.png\" width=\"500\"/>\n",
    "</div>\n",
    "\n",
    "6) If you hit return, you should see something like:\n",
    "\n",
    "<div>\n",
    "<img src=\"figures/Screen Shot 2019-09-11 at 08.57.35.png\" width=\"500\"/>\n",
    "</div>\n",
    "\n",
    "7) Now depending on the tool you are using (here: opendiff), you will need to use different commands:\n",
    "\n",
    "<div>\n",
    "<img src=\"figures/Screen Shot 2019-09-11 at 08.57.54.png\" width=\"500\"/>\n",
    "</div>\n",
    "\n",
    "8) You can now commit these changes: `git commit -m \"conflict merged\"`\n",
    "\n",
    "\n",
    "\n"
   ]
  },
  {
   "cell_type": "markdown",
   "metadata": {
    "collapsed": true
   },
   "source": [
    "# 11- Committing changes using a GUI: git gui "
   ]
  },
  {
   "cell_type": "markdown",
   "metadata": {},
   "source": [
    "0) First make some edits to different sections in the file: `my_cool_paper.md`.\n",
    "\n",
    "1) Now you can make multiple commits for all these changes using a git-gui. First run `git gui`, you should see the following:\n",
    "\n",
    "<div>\n",
    "<img src=\"figures/Screen Shot 2019-09-11 at 10.01.30.png\" width=\"700\"/>\n",
    "</div>\n",
    "\n",
    "2) You can select the specific changes in a file and stage them. Here, we will only stage changes made to the abstract:\n",
    "<div>\n",
    "<img src=\"figures/Screen Shot 2019-09-11 at 10.04.05.png\" width=\"700\"/>\n",
    "</div>\n",
    "\n",
    "3) You can now commit these changes, with a suitable message (ex. 'edits to abstract')\n",
    "<div>\n",
    "<img src=\"figures/Screen Shot 2019-09-11 at 10.04.33.png\" width=\"700\"/>\n",
    "</div>\n",
    "\n",
    "4) Now repeat the same operation for the intro. Stage changes to the intro section:\n",
    "<div>\n",
    "<img src=\"figures/Screen Shot 2019-09-11 at 10.05.00.png\" width=\"700\"/>\n",
    "</div>\n",
    "\n",
    "5) Again you can commit those changes with a useful message: 'edits to intro':\n",
    "\n",
    "<div>\n",
    "<img src=\"figures/Screen Shot 2019-09-11 at 10.05.24.png\" width=\"700\"/>\n",
    "</div>\n",
    "\n",
    "\n",
    "6) You can also choose to add all the remaining changes in `my_cool_paper.md` file and commit!\n",
    "<div>\n",
    "<img src=\"figures/Screen Shot 2019-09-11 at 10.06.15.png\" width=\"700\"/>\n",
    "</div>\n",
    "7) Finally, push those commits to the remote repo:\n",
    "<div>\n",
    "<img src=\"figures/Screen Shot 2019-09-11 at 10.06.45.png\" width=\"700\"/>\n",
    "</div>\n",
    "8) You will see the following message:\n",
    "<div>\n",
    "<img src=\"figures/Screen Shot 2019-09-11 at 10.07.02.png\" width=\"700\"/>\n",
    "</div>\n"
   ]
  },
  {
   "cell_type": "markdown",
   "metadata": {
    "collapsed": true
   },
   "source": [
    "## helpful reference\n",
    "\n",
    "[chrys woods' beginning git guide](https://chryswoods.com/beginning_git/index.html)"
   ]
  }
 ],
 "metadata": {
  "kernelspec": {
   "display_name": "Python 3",
   "language": "python",
   "name": "python3"
  },
  "language_info": {
   "codemirror_mode": {
    "name": "ipython",
    "version": 3
   },
   "file_extension": ".py",
   "mimetype": "text/x-python",
   "name": "python",
   "nbconvert_exporter": "python",
   "pygments_lexer": "ipython3",
   "version": "3.7.3"
  }
 },
 "nbformat": 4,
 "nbformat_minor": 2
}
