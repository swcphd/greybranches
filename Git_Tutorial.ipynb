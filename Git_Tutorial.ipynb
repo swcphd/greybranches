{
 "cells": [
  {
   "cell_type": "markdown",
   "metadata": {},
   "source": [
    "# Git Tutorial"
   ]
  },
  {
   "cell_type": "markdown",
   "metadata": {},
   "source": [
    "## Cloning a git repository from GitHub"
   ]
  },
  {
   "cell_type": "markdown",
   "metadata": {},
   "source": [
    "1) Open a terminal window:  \"Menu > Accessories > Terminal\"\n",
    "\n",
    "2) Go to your prefered directory : \"cd /home/documents\"\n",
    "\n",
    "3) Clone the repo: \"git clone git@github.com:swcphd/greybranches.git\"\n",
    "\n",
    "![title](figures/Screen Shot 2019-09-09 at 10.20.34.png)"
   ]
  },
  {
   "cell_type": "markdown",
   "metadata": {},
   "source": [
    "# Adding a new file to git"
   ]
  },
  {
   "cell_type": "markdown",
   "metadata": {},
   "source": [
    "1) create a new file \"my_new_file.txt\"\n",
    "\n",
    "2) run the command:\n",
    "![title](figures/Capture%20d%E2%80%99e%CC%81cran%202019-09-07%20a%CC%80%2012.59.26.png)"
   ]
  },
  {
   "cell_type": "markdown",
   "metadata": {},
   "source": [
    "\n",
    "# Checking the status of the local repository"
   ]
  },
  {
   "cell_type": "markdown",
   "metadata": {},
   "source": [
    "1) Type \"git status\":\n",
    "![title](figures/Capture%20d%E2%80%99e%CC%81cran%202019-09-07%20a%CC%80%2013.08.12.png)\n",
    "    \n",
    "2) Now all changes in this file are tracked:\n",
    "    a) make some edits on this file\n",
    "    b) type \"git status\":\n",
    "![title](figures/Capture%20d%E2%80%99e%CC%81cran%202019-09-07%20a%CC%80%2013.42.03.png)\n",
    "    "
   ]
  },
  {
   "cell_type": "markdown",
   "metadata": {},
   "source": [
    "# Editing an existing file"
   ]
  },
  {
   "cell_type": "markdown",
   "metadata": {},
   "source": [
    "\n",
    "1) open the file \"my_cool_paper.md\"\n",
    "\n",
    "2) Make some edits: \n",
    "\n",
    "    a) group 1:  Abstract\n",
    "    \n",
    "    b) group 2:  Intro\n",
    "    \n",
    "    c) group 3:  Section 1\n",
    "    \n",
    "    ...\n",
    "3) Check the status on git:\n",
    "![title](figures/Capture%20d%E2%80%99e%CC%81cran%202019-09-07%20a%CC%80%2013.44.28.png)"
   ]
  },
  {
   "cell_type": "markdown",
   "metadata": {},
   "source": [
    "# Stage changes to be commited"
   ]
  },
  {
   "cell_type": "markdown",
   "metadata": {},
   "source": [
    "1) Run the command:\n",
    "![title](figures/Capture%20d%E2%80%99e%CC%81cran%202019-09-07%20a%CC%80%2013.47.05.png)\n",
    "    \n",
    "2) Check the status again:\n",
    " \n",
    "![title](figures/Capture%20d%E2%80%99e%CC%81cran%202019-09-07%20a%CC%80%2013.46.37.png)"
   ]
  },
  {
   "cell_type": "markdown",
   "metadata": {},
   "source": [
    "# Committing changes to a local repository using command line"
   ]
  },
  {
   "cell_type": "markdown",
   "metadata": {},
   "source": [
    "1) run the command:\n",
    "![title](figures/Capture%20d%E2%80%99e%CC%81cran%202019-09-07%20a%CC%80%2013.12.14.png)\n",
    "    \n",
    "2) You should see something like: \n",
    " \n",
    "![title](figures/Capture%20d%E2%80%99e%CC%81cran%202019-09-07%20a%CC%80%2013.12.30.png\n",
    "    "
   ]
  },
  {
   "cell_type": "markdown",
   "metadata": {},
   "source": [
    "\n",
    "3) Repeat the process for \"my_cool_paper.md\"\n",
    "\n",
    "    a) Stage the changes:  git stage my_cool_paper.md\n",
    "    \n",
    "    b) Commit the changes with a meaninful comment: git commit -m \"new intro\"\n",
    "    "
   ]
  },
  {
   "cell_type": "markdown",
   "metadata": {},
   "source": [
    "# Removing file from your local repo"
   ]
  },
  {
   "cell_type": "markdown",
   "metadata": {},
   "source": [
    "1) Run the command:\n",
    "![title](figures/Capture%20d%E2%80%99e%CC%81cran%202019-09-07%20a%CC%80%2013.19.16.png)\n",
    "2) Check the status:\n",
    "\n",
    "![title](figures/Capture%20d%E2%80%99e%CC%81cran%202019-09-07%20a%CC%80%2013.21.09.png)\n",
    "\n",
    "3) Commit the change:\n",
    "![title](figures/Capture%20d%E2%80%99e%CC%81cran%202019-09-07%20a%CC%80%2013.22.47.png)\n"
   ]
  },
  {
   "cell_type": "markdown",
   "metadata": {},
   "source": [
    "# Pulling changes from Remote repository"
   ]
  },
  {
   "cell_type": "markdown",
   "metadata": {},
   "source": [
    "1) Run the command: \"git pull\"\n",
    "\n",
    "2) If no changes occured in the Remote repo you should get the message:\n",
    "\n",
    "![title](figures/Capture%20d%E2%80%99e%CC%81cran%202019-09-07%20a%CC%80%2012.53.12.png)\n",
    "\n",
    "3) When the remote changes are not conflicting with the local ones you get:\n",
    "![title](figures/Capture%20d%E2%80%99e%CC%81cran%202019-09-07%20a%CC%80%2012.52.59.png)"
   ]
  },
  {
   "cell_type": "markdown",
   "metadata": {},
   "source": [
    "# pushing to remote repository"
   ]
  },
  {
   "cell_type": "markdown",
   "metadata": {},
   "source": [
    "1) Group 1 run: git push \n",
    "\n",
    "![title](figures/Capture%20d%E2%80%99e%CC%81cran%202019-09-07%20a%CC%80%2013.59.52.png)\n",
    "2) Group 2 run: git push\n",
    "\n",
    "![title](figures/Capture%20d%E2%80%99e%CC%81cran%202019-09-07%20a%CC%80%2013.56.40.png)\n",
    "\n",
    "3) Group 3 run: git pull\n",
    "![title](figures/Capture%20d%E2%80%99e%CC%81cran%202019-09-07%20a%CC%80%2013.57.24.png)\n",
    "\n",
    "4) Type :q and enter\n",
    "\n",
    "![title](figures/Capture%20d%E2%80%99e%CC%81cran%202019-09-07%20a%CC%80%2013.57.43.png)"
   ]
  },
  {
   "cell_type": "code",
   "execution_count": null,
   "metadata": {
    "collapsed": true
   },
   "outputs": [],
   "source": []
  },
  {
   "cell_type": "code",
   "execution_count": null,
   "metadata": {
    "collapsed": true
   },
   "outputs": [],
   "source": []
  },
  {
   "cell_type": "code",
   "execution_count": null,
   "metadata": {
    "collapsed": true
   },
   "outputs": [],
   "source": []
  }
 ],
 "metadata": {
  "kernelspec": {
   "display_name": "Python 2",
   "language": "python",
   "name": "python2"
  },
  "language_info": {
   "codemirror_mode": {
    "name": "ipython",
    "version": 2
   },
   "file_extension": ".py",
   "mimetype": "text/x-python",
   "name": "python",
   "nbconvert_exporter": "python",
   "pygments_lexer": "ipython2",
   "version": "2.7.13"
  }
 },
 "nbformat": 4,
 "nbformat_minor": 2
}
