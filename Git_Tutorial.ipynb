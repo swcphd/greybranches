{
 "cells": [
  {
   "cell_type": "markdown",
   "metadata": {},
   "source": [
    "# Git Tutorial"
   ]
  },
  {
   "cell_type": "markdown",
   "metadata": {},
   "source": [
    "## 1- Cloning a git repository from GitHub"
   ]
  },
  {
   "cell_type": "markdown",
   "metadata": {},
   "source": [
    "1) Open a terminal window:  \"Menu > Accessories > Terminal\"\n",
    "\n",
    "2) Go to your prefered directory : \"cd /home/documents\"\n",
    "\n",
    "3) Clone the repo: \"git clone git@github.com:swcphd/greybranches.git\"\n",
    "\n",
    "<div>\n",
    "<img src=\"figures/Screen Shot 2019-09-09 at 10.20.34.png\" width=\"700\"/>\n",
    "</div>"
   ]
  },
  {
   "cell_type": "markdown",
   "metadata": {},
   "source": [
    "# 2- Adding a new file to git"
   ]
  },
  {
   "cell_type": "markdown",
   "metadata": {},
   "source": [
    "1) create a new file \"my_new_file.txt\"\n",
    "\n",
    "2) run the command:\n",
    "<div>\n",
    "<img src=\"figures/Capture%20d%E2%80%99e%CC%81cran%202019-09-07%20a%CC%80%2012.59.26.png\" width=\"200\"/>\n",
    "</div>"
   ]
  },
  {
   "cell_type": "markdown",
   "metadata": {},
   "source": [
    "\n",
    "# 3- Checking the status of the local repository"
   ]
  },
  {
   "cell_type": "markdown",
   "metadata": {},
   "source": [
    "1) Type \"git status\":\n",
    "\n",
    "<div>\n",
    "<img src=\"figures/Capture%20d%E2%80%99e%CC%81cran%202019-09-07%20a%CC%80%2013.08.12.png\" width=\"500\"/>\n",
    "</div>\n",
    "\n",
    "    \n",
    "2) Now all changes in this file are tracked:\n",
    "    a) make some edits on this file\n",
    "    b) type \"git status\":\n",
    "<div>\n",
    "<img src=\"figures/Capture%20d%E2%80%99e%CC%81cran%202019-09-07%20a%CC%80%2013.42.03.png\" width=\"500\"/>\n",
    "</div>\n",
    "\n",
    "    "
   ]
  },
  {
   "cell_type": "markdown",
   "metadata": {},
   "source": [
    "# 4- Editing an existing file"
   ]
  },
  {
   "cell_type": "markdown",
   "metadata": {},
   "source": [
    "\n",
    "1) open the file \"my_cool_paper.md\"\n",
    "\n",
    "2) Make some edits: \n",
    "\n",
    "    a) group 1:  Abstract\n",
    "    \n",
    "    b) group 2:  Intro\n",
    "    \n",
    "    c) group 3:  Section 1\n",
    "    \n",
    "    ...\n",
    "3) Check the status on git:\n",
    "\n",
    "<div>\n",
    "<img src=\"figures/Capture%20d%E2%80%99e%CC%81cran%202019-09-07%20a%CC%80%2013.44.28.png\" width=\"500\"/>\n",
    "</div>\n"
   ]
  },
  {
   "cell_type": "markdown",
   "metadata": {},
   "source": [
    "# 5- Stage changes to be commited"
   ]
  },
  {
   "cell_type": "markdown",
   "metadata": {},
   "source": [
    "1) Run the command:\n",
    "\n",
    "<div>\n",
    "<img src=\"figures/Capture%20d%E2%80%99e%CC%81cran%202019-09-07%20a%CC%80%2013.47.05.png\" width=\"200\"/>\n",
    "</div>\n",
    "    \n",
    "2) Check the status again:\n",
    " \n",
    "<div>\n",
    "<img src=\"figures/Capture%20d%E2%80%99e%CC%81cran%202019-09-07%20a%CC%80%2013.46.37.png\" width=\"500\"/>\n",
    "</div>\n"
   ]
  },
  {
   "cell_type": "markdown",
   "metadata": {},
   "source": [
    "# 6- Committing changes to a local repository using command line"
   ]
  },
  {
   "cell_type": "markdown",
   "metadata": {},
   "source": [
    "1) run the command:\n",
    "<div>\n",
    "<img src=\"figures/Capture%20d%E2%80%99e%CC%81cran%202019-09-07%20a%CC%80%2013.12.14.png\" width=\"200\"/>\n",
    "</div>\n",
    "\n",
    "    \n",
    "2) You should see something like: \n",
    " <div>\n",
    "<img src=\"figures/Capture%20d%E2%80%99e%CC%81cran%202019-09-07%20a%CC%80%2013.12.30.png\" width=\"300\"/>\n",
    "</div>\n",
    "\n",
    "    "
   ]
  },
  {
   "cell_type": "markdown",
   "metadata": {},
   "source": [
    "\n",
    "3) Repeat the process for \"my_cool_paper.md\"\n",
    "\n",
    "    a) Stage the changes:  git stage my_cool_paper.md\n",
    "    \n",
    "    b) Commit the changes with a meaninful comment: git commit -m \"new intro\"\n",
    "    "
   ]
  },
  {
   "cell_type": "markdown",
   "metadata": {},
   "source": [
    "# 7- Removing file from your local repo"
   ]
  },
  {
   "cell_type": "markdown",
   "metadata": {},
   "source": [
    "1) Run the command:\n",
    " <div>\n",
    "<img src=\"figures/Capture%20d%E2%80%99e%CC%81cran%202019-09-07%20a%CC%80%2013.19.16.png\" width=\"200\"/>\n",
    "</div>\n",
    "\n",
    "2) Check the status:\n",
    "\n",
    " <div>\n",
    "<img src=\"figures/Capture%20d%E2%80%99e%CC%81cran%202019-09-07%20a%CC%80%2013.21.09.png\" width=\"500\"/>\n",
    "</div>\n",
    "\n",
    "3) Commit the change:\n",
    "<div>\n",
    "<img src=\"figures/Capture%20d%E2%80%99e%CC%81cran%202019-09-07%20a%CC%80%2013.22.47.png\" width=\"500\"/>\n",
    "</div>\n",
    "\n"
   ]
  },
  {
   "cell_type": "markdown",
   "metadata": {},
   "source": [
    "# 8- Pulling changes from Remote repository"
   ]
  },
  {
   "cell_type": "markdown",
   "metadata": {},
   "source": [
    "1) Run the command: \"git pull origin master\"\n",
    "\n",
    "2) If no changes occured in the Remote repo you should get the message:\n",
    "<div>\n",
    "<img src=\"figures/Capture%20d%E2%80%99e%CC%81cran%202019-09-07%20a%CC%80%2012.53.12.png\" width=\"200\"/>\n",
    "</div>\n",
    "\n",
    "\n",
    "3) When the remote changes are not conflicting with the local ones you get:\n",
    "<div>\n",
    "<img src=\"figures/Capture%20d%E2%80%99e%CC%81cran%202019-09-07%20a%CC%80%2012.52.59.png\" width=\"500\"/>\n",
    "</div>\n"
   ]
  },
  {
   "cell_type": "markdown",
   "metadata": {},
   "source": [
    "# 9- Pushing to remote repository"
   ]
  },
  {
   "cell_type": "markdown",
   "metadata": {},
   "source": [
    "1) Group 1 run: git push \n",
    "<div>\n",
    "<img src=\"figures/Capture%20d%E2%80%99e%CC%81cran%202019-09-07%20a%CC%80%2013.59.52.png\" width=\"500\"/>\n",
    "</div>\n",
    "\n",
    "2) Group 2 run: git push\n",
    "\n",
    "<div>\n",
    "<img src=\"figures/Capture%20d%E2%80%99e%CC%81cran%202019-09-07%20a%CC%80%2013.56.40.png\" width=\"500\"/>\n",
    "</div>\n",
    "\n",
    "\n",
    "3) Group 3 run: git pull\n",
    "\n",
    "<div>\n",
    "<img src=\"figures/Capture%20d%E2%80%99e%CC%81cran%202019-09-07%20a%CC%80%2013.57.24.png\" width=\"500\"/>\n",
    "</div>\n",
    "\n",
    "\n",
    "4) Type :q and enter\n",
    "\n",
    "<div>\n",
    "<img src=\"figures/Capture%20d%E2%80%99e%CC%81cran%202019-09-07%20a%CC%80%2013.57.43.png\" width=\"500\"/>\n",
    "</div>\n"
   ]
  },
  {
   "cell_type": "markdown",
   "metadata": {
    "collapsed": true
   },
   "source": [
    "# 10- Solving merge conflicts"
   ]
  },
  {
   "cell_type": "markdown",
   "metadata": {
    "collapsed": true
   },
   "source": [
    "1) Let's first create a conflict\n",
    "    a) Group 0: Delete the Intro, commit and push\n",
    "    b) All groups: make other edits to the Intro and commit\n",
    "    c) All groups: "
   ]
  },
  {
   "cell_type": "code",
   "execution_count": null,
   "metadata": {
    "collapsed": true
   },
   "outputs": [],
   "source": []
  }
 ],
 "metadata": {
  "kernelspec": {
   "display_name": "Python 2",
   "language": "python",
   "name": "python2"
  },
  "language_info": {
   "codemirror_mode": {
    "name": "ipython",
    "version": 2
   },
   "file_extension": ".py",
   "mimetype": "text/x-python",
   "name": "python",
   "nbconvert_exporter": "python",
   "pygments_lexer": "ipython2",
   "version": "2.7.13"
  }
 },
 "nbformat": 4,
 "nbformat_minor": 2
}
